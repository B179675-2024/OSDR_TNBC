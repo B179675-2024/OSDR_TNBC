{
 "cells": [
  {
   "cell_type": "code",
   "execution_count": null,
   "id": "11112d67-0fcc-416a-81a7-c9e2178be3de",
   "metadata": {},
   "outputs": [],
   "source": [
    "#imports\n",
    "import numpy as np\n",
    "import pandas as pd"
   ]
  },
  {
   "cell_type": "code",
   "execution_count": null,
   "id": "30d8bf44",
   "metadata": {},
   "outputs": [],
   "source": [
    "#load data, takes about a minute\n",
    "tncb_df=pd.read_csv(\"../data/cell_table_bothneighbourhoods.csv\")"
   ]
  },
  {
   "cell_type": "code",
   "execution_count": 3,
   "id": "7398234d",
   "metadata": {},
   "outputs": [
    {
     "name": "stdout",
     "output_type": "stream",
     "text": [
      "   Unnamed: 0.1  Unnamed: 0  cell_size  Alpha-SMA     B7-H4  Beta-Catenin  \\\n",
      "0             0           0       20.0   0.288579  0.223591      0.648155   \n",
      "1             1           1       24.0   0.077877  0.593262      0.409555   \n",
      "2             2           2        6.0   0.061702  0.975959      0.996395   \n",
      "3             3           3       36.0   0.039577  0.251406      0.123735   \n",
      "4             4           4       12.0   0.068972  0.873710      0.803824   \n",
      "\n",
      "     CD107a     CD11b      CD14      CD16  ...  centroid_dif_nuclear  \\\n",
      "0  0.547847  0.715537  0.440204  0.696713  ...              0.000000   \n",
      "1  0.868981  0.643709  0.884689  0.940595  ...              0.000000   \n",
      "2  0.243078  0.959890  0.642164  0.097872  ...              0.000000   \n",
      "3  0.037603  0.226375  0.232038  0.218022  ...              0.017906   \n",
      "4  0.207794  0.661986  0.328056  0.317853  ...              0.000000   \n",
      "\n",
      "   num_concavities_nuclear  nc_ratio_nuclear         fov  cell_meta_cluster  \\\n",
      "0                      0.0          0.000000  Leap001_10         CD8 T cell   \n",
      "1                      0.0          0.291667  Leap001_10        Cancer cell   \n",
      "2                      0.0          0.000000  Leap001_10         CD8 T cell   \n",
      "3                      0.0          0.916667  Leap001_10  Memory CD8 T cell   \n",
      "4                      0.0          0.000000  Leap001_10   B7H4 Cancer cell   \n",
      "\n",
      "   qc_pass  kmeans_neighborhood  cell_meta_cluster_Ki67  \\\n",
      "0    False                  1.0              CD8 T cell   \n",
      "1    False                 10.0             Cancer cell   \n",
      "2    False                 10.0              CD8 T cell   \n",
      "3     True                  7.0       Memory CD8 T cell   \n",
      "4    False                 10.0        B7H4 Cancer cell   \n",
      "\n",
      "   kmeans_neighborhood_Ki67  cell_meta_cluster_Ki67_unassigned  \n",
      "0                       9.0                         CD8 T cell  \n",
      "1                       7.0                        Cancer cell  \n",
      "2                       7.0                         CD8 T cell  \n",
      "3                       3.0                  Memory CD8 T cell  \n",
      "4                       7.0                   B7H4 Cancer cell  \n",
      "\n",
      "[5 rows x 121 columns]\n"
     ]
    }
   ],
   "source": [
    "print(tncb_df.head())"
   ]
  }
 ],
 "metadata": {
  "kernelspec": {
   "display_name": "osdr",
   "language": "python",
   "name": "python3"
  },
  "language_info": {
   "codemirror_mode": {
    "name": "ipython",
    "version": 3
   },
   "file_extension": ".py",
   "mimetype": "text/x-python",
   "name": "python",
   "nbconvert_exporter": "python",
   "pygments_lexer": "ipython3",
   "version": "3.13.2"
  }
 },
 "nbformat": 4,
 "nbformat_minor": 5
}
