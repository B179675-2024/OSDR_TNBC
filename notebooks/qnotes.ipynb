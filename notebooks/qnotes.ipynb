{
 "cells": [
  {
   "cell_type": "raw",
   "id": "e63d8ba9",
   "metadata": {
    "vscode": {
     "languageId": "raw"
    }
   },
   "source": [
    "---\n",
    "title: \"OSDR TNBC Project Notes\"\n",
    "format: html\n",
    "---"
   ]
  },
  {
   "cell_type": "markdown",
   "id": "15e33640",
   "metadata": {},
   "source": [
    "### This is a markdown cell"
   ]
  },
  {
   "cell_type": "code",
   "execution_count": null,
   "id": "08c2378c",
   "metadata": {},
   "outputs": [
    {
     "name": "stdout",
     "output_type": "stream",
     "text": [
      "And this is\n",
      " a code \n",
      "\tcell\n"
     ]
    }
   ],
   "source": [
    "print(\"And this is\\n a code \\n\\tcell\")"
   ]
  }
 ],
 "metadata": {
  "kernelspec": {
   "display_name": "osdr",
   "language": "python",
   "name": "python3"
  },
  "language_info": {
   "codemirror_mode": {
    "name": "ipython",
    "version": 3
   },
   "file_extension": ".py",
   "mimetype": "text/x-python",
   "name": "python",
   "nbconvert_exporter": "python",
   "pygments_lexer": "ipython3",
   "version": "3.13.2"
  }
 },
 "nbformat": 4,
 "nbformat_minor": 5
}
